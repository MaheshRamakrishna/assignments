{
 "cells": [
  {
   "cell_type": "markdown",
   "id": "89824f80",
   "metadata": {},
   "source": [
    "# Assignment_1"
   ]
  },
  {
   "cell_type": "code",
   "execution_count": 2,
   "id": "63f7ce19",
   "metadata": {},
   "outputs": [
    {
     "data": {
      "text/plain": [
       "\"\\n1. In the below elements which of them are values or an expression? \\neg:- values can be integer or string and expressions will be mathematical operators.\\n\\n*         expression\\n'hello'   values\\n-87.8     values\\n-         expression\\n/         expression\\n+         expression\\n          space - values\\n6         values\\n\\n\""
      ]
     },
     "execution_count": 2,
     "metadata": {},
     "output_type": "execute_result"
    }
   ],
   "source": [
    "\"\"\"\n",
    "1. In the below elements which of them are values or an expression? \n",
    "eg:- values can be integer or string and expressions will be mathematical operators.\n",
    "\n",
    "*         expression\n",
    "'hello'   values\n",
    "-87.8     values\n",
    "-         expression\n",
    "/         expression\n",
    "+         expression\n",
    "          space - values\n",
    "6         values\n",
    "\n",
    "\"\"\""
   ]
  },
  {
   "cell_type": "code",
   "execution_count": 3,
   "id": "f38b2799",
   "metadata": {},
   "outputs": [
    {
     "data": {
      "text/plain": [
       "'\\n2. What is the difference between string and variable?\\n\\nstring is a datatype, which indicates list of characters.\\nvariable is reference pointing to a memory location of any data like integer, string, tuple, list, set, or any object.\\n'"
      ]
     },
     "execution_count": 3,
     "metadata": {},
     "output_type": "execute_result"
    }
   ],
   "source": [
    "\"\"\"\n",
    "2. What is the difference between string and variable?\n",
    "\n",
    "string is a datatype, which indicates list of characters.\n",
    "variable is reference pointing to a memory location of any data like integer, string, tuple, list, set, or any object.\n",
    "\"\"\"\n",
    "\n"
   ]
  },
  {
   "cell_type": "code",
   "execution_count": 4,
   "id": "7a43de09",
   "metadata": {},
   "outputs": [
    {
     "data": {
      "text/plain": [
       "'\\n3. Describe three different data types.\\n\\na. int - holds a integer value\\n   eg: 1\\nb. list - is a collection which holds values within [], it can be of any type of values.\\n   eg: [1, 2, (32,223), \"simple\", 34+7j]\\nc. tuple - is a immutable collection of values mentioned within ().\\n   eg: (1,2,3)\\n'"
      ]
     },
     "execution_count": 4,
     "metadata": {},
     "output_type": "execute_result"
    }
   ],
   "source": [
    "\"\"\"\n",
    "3. Describe three different data types.\n",
    "\n",
    "a. int - holds a integer value\n",
    "   eg: 1\n",
    "b. list - is a collection which holds values within [], it can be of any type of values.\n",
    "   eg: [1, 2, (32,223), \"simple\", 34+7j]\n",
    "c. tuple - is a immutable collection of values mentioned within ().\n",
    "   eg: (1,2,3)\n",
    "\"\"\""
   ]
  },
  {
   "cell_type": "code",
   "execution_count": 5,
   "id": "55e7db88",
   "metadata": {},
   "outputs": [
    {
     "data": {
      "text/plain": [
       "'\\n4. What is an expression made up of?What do all expression do?\\n\\nExpression is made of operator and operands. \\nExpression can be evalvuated by the interprator/compiler to deduce a value.\\n'"
      ]
     },
     "execution_count": 5,
     "metadata": {},
     "output_type": "execute_result"
    }
   ],
   "source": [
    "\"\"\"\n",
    "4. What is an expression made up of?What do all expression do?\n",
    "\n",
    "Expression is made of operator and operands. \n",
    "Expression can be evalvuated by the interprator/compiler to deduce a value.\n",
    "\"\"\""
   ]
  },
  {
   "cell_type": "code",
   "execution_count": 6,
   "id": "67b32b76",
   "metadata": {},
   "outputs": [
    {
     "data": {
      "text/plain": [
       "'\\n5. This assignment statements, like spam = 10. What is the difference between an expression and a statement?\\nStatement will have left side assignment. Statement can hold a expression.\\nExpression can exist without a left side assignment.\\n'"
      ]
     },
     "execution_count": 6,
     "metadata": {},
     "output_type": "execute_result"
    }
   ],
   "source": [
    "\"\"\"\n",
    "5. This assignment statements, like spam = 10. What is the difference between an expression and a statement?\n",
    "Statement will have left side assignment. Statement can hold a expression.\n",
    "Expression can exist without a left side assignment.\n",
    "\"\"\""
   ]
  },
  {
   "cell_type": "code",
   "execution_count": 7,
   "id": "ec60dc42",
   "metadata": {},
   "outputs": [
    {
     "data": {
      "text/plain": [
       "22"
      ]
     },
     "execution_count": 7,
     "metadata": {},
     "output_type": "execute_result"
    }
   ],
   "source": [
    "\"\"\"\n",
    "6. After running the following code, what does the variable bacon contain?\n",
    "bacon = 22\n",
    "bacon + 1\n",
    "\n",
    "bacon will still hold 22, as the second one is just a expression without assigned back to bacon.\n",
    "\"\"\"\n"
   ]
  },
  {
   "cell_type": "code",
   "execution_count": 12,
   "id": "738cab78",
   "metadata": {},
   "outputs": [
    {
     "data": {
      "text/plain": [
       "\"\\nWhat should the values of the following two terms be?\\n'spam' + 'spamspam' ----> spamspamspam\\n'spam' * 3          ----> spamspamspam\\n\\n\\n\""
      ]
     },
     "execution_count": 12,
     "metadata": {},
     "output_type": "execute_result"
    }
   ],
   "source": [
    "\"\"\"\n",
    "What should the values of the following two terms be?\n",
    "'spam' + 'spamspam' ----> spamspamspam\n",
    "'spam' * 3          ----> spamspamspam\n",
    "\n",
    "\n",
    "\"\"\""
   ]
  },
  {
   "cell_type": "code",
   "execution_count": 13,
   "id": "2aa1ab72",
   "metadata": {},
   "outputs": [
    {
     "data": {
      "text/plain": [
       "'\\n8. Why is eggs a valid variable name while 100 is invalid?\\n\\nAll variables starts with characters or _. Usually variables start with lower case letter per nomenclature.\\n'"
      ]
     },
     "execution_count": 13,
     "metadata": {},
     "output_type": "execute_result"
    }
   ],
   "source": [
    "\"\"\"\n",
    "8. Why is eggs a valid variable name while 100 is invalid?\n",
    "\n",
    "All variables starts with characters or _. Usually variables start with lower case letter per nomenclature.\n",
    "\"\"\""
   ]
  },
  {
   "cell_type": "code",
   "execution_count": 16,
   "id": "09adc10f",
   "metadata": {},
   "outputs": [
    {
     "data": {
      "text/plain": [
       "'10'"
      ]
     },
     "execution_count": 16,
     "metadata": {},
     "output_type": "execute_result"
    }
   ],
   "source": [
    "\"\"\"\n",
    "9. What three functions can be used to get the integer, floating-point number, or string version of a value?\n",
    "\n",
    "int()\n",
    "float()\n",
    "str()\n",
    "\"\"\"\n"
   ]
  },
  {
   "cell_type": "code",
   "execution_count": 25,
   "id": "4dd492fb",
   "metadata": {},
   "outputs": [
    {
     "data": {
      "text/plain": [
       "'I have eaten 99 burritos.'"
      ]
     },
     "execution_count": 25,
     "metadata": {},
     "output_type": "execute_result"
    }
   ],
   "source": [
    "\"\"\"\n",
    "10. Why does this expression cause an error? How can you fix it?\n",
    "'I have eaten ' + 99 + ' burritos.'\n",
    "\n",
    "99 is not a string and other two values are string. int cannot concatenate with string. \n",
    "If we convert 99 to string as \"99\" or str(99) - it will work\n",
    "\n",
    "\"\"\"\n",
    "\n",
    "s1 = 'I have eaten ' + str(99) + ' burritos.'\n",
    "s2 = 'I have eaten ' + \"99\" + ' burritos.'\n",
    "s3 = 'I have eaten ' + '99' + ' burritos.'\n"
   ]
  }
 ],
 "metadata": {
  "kernelspec": {
   "display_name": "Python 3 (ipykernel)",
   "language": "python",
   "name": "python3"
  },
  "language_info": {
   "codemirror_mode": {
    "name": "ipython",
    "version": 3
   },
   "file_extension": ".py",
   "mimetype": "text/x-python",
   "name": "python",
   "nbconvert_exporter": "python",
   "pygments_lexer": "ipython3",
   "version": "3.9.7"
  }
 },
 "nbformat": 4,
 "nbformat_minor": 5
}
