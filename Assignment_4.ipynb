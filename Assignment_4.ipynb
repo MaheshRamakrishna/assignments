{
 "cells": [
  {
   "cell_type": "markdown",
   "id": "75f7647d",
   "metadata": {},
   "source": [
    "# Assignment_4 "
   ]
  },
  {
   "cell_type": "code",
   "execution_count": 1,
   "id": "12a71fb9",
   "metadata": {},
   "outputs": [
    {
     "data": {
      "text/plain": [
       "'\\n1. What exactly is []?\\n    - list data type\\n\\n'"
      ]
     },
     "execution_count": 1,
     "metadata": {},
     "output_type": "execute_result"
    }
   ],
   "source": [
    "\"\"\"\n",
    "1. What exactly is []?\n",
    "    - list data type\n",
    "\n",
    "\"\"\""
   ]
  },
  {
   "cell_type": "code",
   "execution_count": 4,
   "id": "b59188f7",
   "metadata": {},
   "outputs": [
    {
     "name": "stdout",
     "output_type": "stream",
     "text": [
      "[2, 4, 'hello', 8, 10]\n"
     ]
    }
   ],
   "source": [
    "\"\"\"\n",
    "2. In a list of values stored in a variable called spam, \n",
    "    how would you assign the value 'hello' as the third value? (Assume [2, 4, 6, 8, 10] are in spam.)\n",
    "\n",
    "\"\"\"\n",
    "\n",
    "spam = [2,4,6,8,10] #initial list\n",
    "\n",
    "spam[2] = 'hello' # assigning index 2 (third position) with 'hello'\n",
    "\n",
    "print(spam) # print the value"
   ]
  },
  {
   "cell_type": "code",
   "execution_count": 5,
   "id": "ffe9f175",
   "metadata": {},
   "outputs": [
    {
     "data": {
      "text/plain": [
       "\"\\nLet's pretend the spam includes the list ['a', 'b', 'c', 'd'] for the next three queries.\\n\""
      ]
     },
     "execution_count": 5,
     "metadata": {},
     "output_type": "execute_result"
    }
   ],
   "source": [
    "\"\"\"\n",
    "Let's pretend the spam includes the list ['a', 'b', 'c', 'd'] for the next three queries.\n",
    "\"\"\""
   ]
  },
  {
   "cell_type": "code",
   "execution_count": 10,
   "id": "71a88168",
   "metadata": {},
   "outputs": [
    {
     "data": {
      "text/plain": [
       "'d'"
      ]
     },
     "execution_count": 10,
     "metadata": {},
     "output_type": "execute_result"
    }
   ],
   "source": [
    "\"\"\"\n",
    "3. What is the value of spam[int(int('3' * 2) / 11)]?\n",
    "    - 'd'\n",
    "\"\"\"\n",
    "spam = ['a', 'b', 'c', 'd']\n",
    "spam[int(int('3' * 2) / 11)]\n"
   ]
  },
  {
   "cell_type": "code",
   "execution_count": 11,
   "id": "3cec5e3e",
   "metadata": {},
   "outputs": [
    {
     "data": {
      "text/plain": [
       "'d'"
      ]
     },
     "execution_count": 11,
     "metadata": {},
     "output_type": "execute_result"
    }
   ],
   "source": [
    "\"\"\"\n",
    "4. What is the value of spam[-1]?\n",
    "    - 'd'\n",
    "\"\"\"\n",
    "spam[-1]"
   ]
  },
  {
   "cell_type": "code",
   "execution_count": 12,
   "id": "ec1c5a25",
   "metadata": {},
   "outputs": [
    {
     "data": {
      "text/plain": [
       "['a', 'b']"
      ]
     },
     "execution_count": 12,
     "metadata": {},
     "output_type": "execute_result"
    }
   ],
   "source": [
    "\"\"\"\n",
    "5. What is the value of spam[:2]?\n",
    "    - ['a', 'b']\n",
    "\"\"\"\n",
    "\n",
    "spam[:2]"
   ]
  },
  {
   "cell_type": "code",
   "execution_count": 14,
   "id": "c2b539c3",
   "metadata": {},
   "outputs": [],
   "source": [
    "\"\"\"\n",
    "Let's pretend bacon has the list [3.14, 'cat,' 11, 'cat,' True] for the next three questions.\n",
    "\"\"\"\n",
    "bacon = [3.14, 'cat', 11, 'cat', True]"
   ]
  },
  {
   "cell_type": "code",
   "execution_count": 15,
   "id": "98105c7c",
   "metadata": {},
   "outputs": [
    {
     "data": {
      "text/plain": [
       "1"
      ]
     },
     "execution_count": 15,
     "metadata": {},
     "output_type": "execute_result"
    }
   ],
   "source": [
    "\"\"\"\n",
    "6. What is the value of bacon.index('cat')?\n",
    "    - index value is 1\n",
    "\"\"\"\n",
    "bacon.index('cat') \n",
    "\n"
   ]
  },
  {
   "cell_type": "code",
   "execution_count": 16,
   "id": "c48891fb",
   "metadata": {},
   "outputs": [],
   "source": [
    "\"\"\"\n",
    "7. How does bacon.append(99) change the look of the list value in bacon?\n",
    "    - [3.14, 'cat', 11, 'cat', True, 99]\n",
    "\"\"\"\n",
    "\n",
    "bacon.append(99)\n",
    "bacon"
   ]
  },
  {
   "cell_type": "code",
   "execution_count": 18,
   "id": "0c99addd",
   "metadata": {},
   "outputs": [
    {
     "data": {
      "text/plain": [
       "[3.14, 11, 'cat', True, 99]"
      ]
     },
     "execution_count": 18,
     "metadata": {},
     "output_type": "execute_result"
    }
   ],
   "source": [
    "\"\"\"\n",
    "8. How does bacon.remove('cat') change the look of the list in bacon?\n",
    "    - [3.14, 11, 'cat', True, 99]\n",
    "\n",
    "\"\"\"\n",
    "\n",
    "bacon.remove('cat')\n",
    "bacon"
   ]
  },
  {
   "cell_type": "code",
   "execution_count": 22,
   "id": "4f4b191e",
   "metadata": {},
   "outputs": [],
   "source": [
    "\"\"\"\n",
    "9. What are the list concatenation and list replication operators?\n",
    "    - list concatenation operator is +\n",
    "    - list replication operator is *\n",
    "\"\"\"\n",
    "l = [1,2,3]\n",
    "l  = l + l\n",
    "l\n",
    "\n",
    "l = l * 5\n",
    "l"
   ]
  },
  {
   "cell_type": "code",
   "execution_count": 24,
   "id": "04776a9e",
   "metadata": {},
   "outputs": [
    {
     "data": {
      "text/plain": [
       "[1, 32, 2, 3]"
      ]
     },
     "execution_count": 24,
     "metadata": {},
     "output_type": "execute_result"
    }
   ],
   "source": [
    "\"\"\"\n",
    "10. What is difference between the list methods append() and insert()?\n",
    "    - append() adds a value to the end of the list\n",
    "    - insert() inserts value before the mentioned index\n",
    "\"\"\"\n",
    "l = [1,32,2]\n",
    "l.append(3)\n",
    "l #[1, 32, 2, 3]\n",
    "\n",
    "l.insert(1,6)\n",
    "l #[1, 6, 32, 2, 3]"
   ]
  },
  {
   "cell_type": "code",
   "execution_count": 26,
   "id": "0e851b21",
   "metadata": {},
   "outputs": [
    {
     "data": {
      "text/plain": [
       "[23, 23, 2]"
      ]
     },
     "execution_count": 26,
     "metadata": {},
     "output_type": "execute_result"
    }
   ],
   "source": [
    "\"\"\"\n",
    "11. What are the two methods for removing items from a list?\n",
    "    - remove() will be able to remove a specified item from the list\n",
    "    - pop() removes the item from end of the list by default or we can specify the index to be removed.\n",
    "    \n",
    "\"\"\"\n",
    "\n",
    "l = [23,23,2,2]\n",
    "l.remove(2)\n",
    "l # [23, 23, 2]\n",
    "\n",
    "l.pop(1)\n",
    "l # [23, 2]\n",
    "\n",
    "l.pop()\n",
    "l # [23]"
   ]
  },
  {
   "cell_type": "code",
   "execution_count": 29,
   "id": "a8c7e03c",
   "metadata": {},
   "outputs": [
    {
     "data": {
      "text/plain": [
       "[23]"
      ]
     },
     "execution_count": 29,
     "metadata": {},
     "output_type": "execute_result"
    }
   ],
   "source": [
    "\"\"\"\n",
    "12. Describe how list values and string values are identical.\n",
    "    - list and string holds a list of elements while list can hold any type of data \n",
    "        and string will hold character elements.\n",
    "    - list and string will have length determination in same fashion\n",
    "    \n",
    "    - list is mutable but string is immutable\n",
    "\"\"\""
   ]
  },
  {
   "cell_type": "code",
   "execution_count": 30,
   "id": "399cfe87",
   "metadata": {},
   "outputs": [
    {
     "data": {
      "text/plain": [
       "\"\\n13. What's the difference between tuples and lists?\\n    - tuples are immutable collection holding  any type of items\\n    - lists are mutable collection of holding any type of items\\n    \\n    - tuples are memory efficient than lists\\n    - tuples are iteration are faster than lists\\n    - tuples easily access specific elements while lists are easy to perform insertion and deletion\\n    - tuples have less built-in methods compare to lists\\n\""
      ]
     },
     "execution_count": 30,
     "metadata": {},
     "output_type": "execute_result"
    }
   ],
   "source": [
    "\"\"\"\n",
    "13. What's the difference between tuples and lists?\n",
    "    - tuples are immutable collection holding  any type of items\n",
    "    - lists are mutable collection of holding any type of items\n",
    "    \n",
    "    - tuples are memory efficient than lists\n",
    "    - tuples are iteration are faster than lists\n",
    "    - tuples easily access specific elements while lists are easy to perform insertion and deletion\n",
    "    - tuples have less built-in methods compare to lists\n",
    "\"\"\""
   ]
  },
  {
   "cell_type": "code",
   "execution_count": 59,
   "id": "4530cfd0",
   "metadata": {},
   "outputs": [
    {
     "data": {
      "text/plain": [
       "(42,)"
      ]
     },
     "execution_count": 59,
     "metadata": {},
     "output_type": "execute_result"
    }
   ],
   "source": [
    "\"\"\"\n",
    "14. How do you type a tuple value that only contains the integer 42?\n",
    "    - (42, )\n",
    "    or\n",
    "    - l = [42]\n",
    "      tuple(l)  \n",
    "\"\"\"\n",
    "t1 = (42, )\n",
    "t1\n",
    "\n",
    "l = [42]\n",
    "tuple(l)"
   ]
  },
  {
   "cell_type": "code",
   "execution_count": 62,
   "id": "8b2ae799",
   "metadata": {},
   "outputs": [
    {
     "data": {
      "text/plain": [
       "(232, 233, 23, 22)"
      ]
     },
     "execution_count": 62,
     "metadata": {},
     "output_type": "execute_result"
    }
   ],
   "source": [
    "\"\"\"\n",
    "15. How do you get a list value's tuple form? How do you get a tuple value's list form?\n",
    "    - l = list(tuple object)\n",
    "    - t = tuple(list object)\n",
    "\n",
    "\"\"\"\n",
    "t = (1,32,2)\n",
    "list(t)\n",
    "\n",
    "l = [232,233,23,22]\n",
    "tuple(l)"
   ]
  },
  {
   "cell_type": "code",
   "execution_count": null,
   "id": "18b0cb78",
   "metadata": {},
   "outputs": [],
   "source": [
    "\"\"\"\n",
    "16. Variables that \"contain\" list values are not necessarily lists themselves. Instead, what do they contain?\n",
    "    - list variable actually references the list object in memory\n",
    "\"\"\""
   ]
  },
  {
   "cell_type": "code",
   "execution_count": 67,
   "id": "c6281c72",
   "metadata": {},
   "outputs": [
    {
     "name": "stdout",
     "output_type": "stream",
     "text": [
      "<built-in method index of list object at 0x7f9af11bbe80>\n",
      "<built-in method index of list object at 0x7f9af11bbe80>\n",
      "<built-in method index of list object at 0x7f9af139c080>\n",
      "<built-in method index of list object at 0x7f9af1419740>\n"
     ]
    }
   ],
   "source": [
    "\"\"\"\n",
    "17. How do you distinguish between copy.copy() and copy.deepcopy()?\n",
    "    - copy.copy() copies only the reference between two variables\n",
    "        a = [1,32,2]\n",
    "        b = a\n",
    "        Both a and b would point to same list object [1,32,2]\n",
    "        \n",
    "    - copy.deepcopy() copies the actual value between old and new object\n",
    "        x = [2,34,3,3]\n",
    "        y = [2,34,3,3]\n",
    "        \n",
    "        Here x and y even though both hold same value but are two different deep copied objects.    \n",
    "\"\"\"\n",
    "\n",
    "a = [1,32,2]\n",
    "b = a\n",
    "\n",
    "print(b.index)\n",
    "print(a.index)\n",
    "\n",
    "\n",
    "x = [2,34,3,3]\n",
    "y = [2,34,3,3]\n",
    "\n",
    "print(x.index)\n",
    "print(y.index)"
   ]
  },
  {
   "cell_type": "code",
   "execution_count": null,
   "id": "ee9aa133",
   "metadata": {},
   "outputs": [],
   "source": []
  }
 ],
 "metadata": {
  "kernelspec": {
   "display_name": "Python 3 (ipykernel)",
   "language": "python",
   "name": "python3"
  },
  "language_info": {
   "codemirror_mode": {
    "name": "ipython",
    "version": 3
   },
   "file_extension": ".py",
   "mimetype": "text/x-python",
   "name": "python",
   "nbconvert_exporter": "python",
   "pygments_lexer": "ipython3",
   "version": "3.9.7"
  }
 },
 "nbformat": 4,
 "nbformat_minor": 5
}
