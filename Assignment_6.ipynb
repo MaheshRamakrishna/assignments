{
 "cells": [
  {
   "cell_type": "markdown",
   "id": "b83a78a7",
   "metadata": {},
   "source": [
    "# Assignment_6"
   ]
  },
  {
   "cell_type": "raw",
   "id": "d9b0a769",
   "metadata": {},
   "source": [
    "\n",
    "1. What are escape characters, and how do you use them?\n",
    "2. What do the escape characters n and t stand for?\n",
    "3. What is the way to include backslash characters in a string?\n",
    "4. The string \"Howl's Moving Castle\" is a correct value. Why isn't the single quote character in the word Howl's not escaped a problem?\n",
    "5. How do you write a string of newlines if you don't want to use the n character?\n",
    "6. What are the values of the given expressions?\n",
    "'Hello, world!'[1]\n",
    "'Hello, world!'[0:5]\n",
    "'Hello, world!'[:5]\n",
    "'Hello, world!'[3:]\n",
    "\n",
    "7. What are the values of the following expressions?\n",
    "'Hello'.upper()\n",
    "'Hello'.upper().isupper()\n",
    "'Hello'.upper().lower()\n",
    "8. What are the values of the following expressions?\n",
    "'Remember, remember, the fifth of July.'.split()\n",
    "'-'.join('There can only one.'.split())\n",
    "9. What are the methods for right-justifying, left-justifying, and centering a string?\n",
    "10. What is the best way to remove whitespace characters from the start or end?\n",
    "\n"
   ]
  },
  {
   "cell_type": "code",
   "execution_count": 1,
   "id": "ba58f877",
   "metadata": {},
   "outputs": [
    {
     "data": {
      "text/plain": [
       "'first sentence \"anyword\" second sentence'"
      ]
     },
     "execution_count": 1,
     "metadata": {},
     "output_type": "execute_result"
    }
   ],
   "source": [
    "\"\"\"\n",
    "1. What are escape characters, and how do you use them?\n",
    "\n",
    "    - backslash is the escape characters to make illegal character to make it fit in the code \n",
    "    example \n",
    "        s = \"first sentence \\\"anyword\\\" second sentence\"\n",
    "        \n",
    "        'first sentence \"anyword\" second sentence'\n",
    "\"\"\"\n",
    "\n",
    "s = \"first sentence \\\"anyword\\\" second sentence\"\n",
    "s"
   ]
  },
  {
   "cell_type": "code",
   "execution_count": 5,
   "id": "08676a7f",
   "metadata": {},
   "outputs": [
    {
     "name": "stdout",
     "output_type": "stream",
     "text": [
      "line1 \n",
      " line2 with \t end.\n"
     ]
    }
   ],
   "source": [
    "\"\"\"\n",
    "2. What do the escape characters n and t stand for?\n",
    "    - \\n is for new line\n",
    "    - \\t is for tab\n",
    "\n",
    "\"\"\"\n",
    "\n",
    "s = \"line1 \\n line2 with \\t end.\"\n",
    "print(s)"
   ]
  },
  {
   "cell_type": "code",
   "execution_count": 6,
   "id": "986f6549",
   "metadata": {},
   "outputs": [
    {
     "data": {
      "text/plain": [
       "'sentence having backslash \\\\ end.'"
      ]
     },
     "execution_count": 6,
     "metadata": {},
     "output_type": "execute_result"
    }
   ],
   "source": [
    "\"\"\"\n",
    "3. What is the way to include backslash characters in a string?\n",
    "    - \\\\\n",
    "\"\"\"\n",
    "\n",
    "s = \"sentence having backslash \\\\ end.\"\n",
    "s"
   ]
  },
  {
   "cell_type": "code",
   "execution_count": 7,
   "id": "af525d30",
   "metadata": {},
   "outputs": [
    {
     "data": {
      "text/plain": [
       "\"Howl's Moving Castle\""
      ]
     },
     "execution_count": 7,
     "metadata": {},
     "output_type": "execute_result"
    }
   ],
   "source": [
    "\"\"\"\n",
    "4. The string \"Howl's Moving Castle\" is a correct value. \n",
    "Why isn't the single quote character in the word Howl's not escaped a problem?\n",
    "    - double quote is helping single quote to be used in the string, \n",
    "    interpreter can understand begin and end of the sentence with double quote\n",
    "\"\"\"\n",
    "\n",
    "s = \"Howl's Moving Castle\"\n",
    "s"
   ]
  },
  {
   "cell_type": "code",
   "execution_count": 8,
   "id": "187663aa",
   "metadata": {},
   "outputs": [
    {
     "name": "stdout",
     "output_type": "stream",
     "text": [
      "first line\n",
      "second line\n"
     ]
    }
   ],
   "source": [
    "\"\"\"\n",
    "5. How do you write a string of newlines if you don't want to use the n character?\n",
    "    - print by default uses \\n in the end. This way we can skip using n character.\n",
    "\"\"\"\n",
    "print(\"first line\")\n",
    "print(\"second line\")"
   ]
  },
  {
   "cell_type": "code",
   "execution_count": 9,
   "id": "127f706b",
   "metadata": {},
   "outputs": [
    {
     "name": "stdout",
     "output_type": "stream",
     "text": [
      "e\n",
      "Hello\n",
      "Hello\n",
      "lo, world!\n"
     ]
    }
   ],
   "source": [
    "\"\"\"\n",
    "6. What are the values of the given expressions?\n",
    "'Hello, world!'[1] \n",
    "    - 'e'\n",
    "'Hello, world!'[0:5]\n",
    "    - 'Hello'\n",
    "'Hello, world!'[:5]\n",
    "    - 'Hello'\n",
    "'Hello, world!'[3:]\n",
    "    - 'lo, world!'\n",
    "\n",
    "\"\"\"\n",
    "print('Hello, world!'[1])\n",
    "print('Hello, world!'[0:5])\n",
    "print('Hello, world!'[:5])\n",
    "print('Hello, world!'[3:])"
   ]
  },
  {
   "cell_type": "code",
   "execution_count": 10,
   "id": "11e056ca",
   "metadata": {},
   "outputs": [
    {
     "name": "stdout",
     "output_type": "stream",
     "text": [
      "HELLO\n",
      "True\n",
      "hello\n"
     ]
    }
   ],
   "source": [
    "\"\"\"\n",
    "7. What are the values of the following expressions?\n",
    "'Hello'.upper()\n",
    "    - 'HELLO'\n",
    "'Hello'.upper().isupper()\n",
    "    - True\n",
    "'Hello'.upper().lower()\n",
    "    - 'hello'\n",
    "\"\"\"\n",
    "\n",
    "print('Hello'.upper())\n",
    "print('Hello'.upper().isupper())\n",
    "print('Hello'.upper().lower())"
   ]
  },
  {
   "cell_type": "code",
   "execution_count": 12,
   "id": "6bb8d9d6",
   "metadata": {},
   "outputs": [
    {
     "name": "stdout",
     "output_type": "stream",
     "text": [
      "['Remember,', 'remember,', 'the', 'fifth', 'of', 'July.']\n",
      "There-can-only-one.\n"
     ]
    }
   ],
   "source": [
    "\"\"\"\n",
    "8. What are the values of the following expressions?\n",
    "'Remember, remember, the fifth of July.'.split()\n",
    "    ['Remember,', 'remember,', 'the', 'fifth', 'of', 'July.' ]\n",
    "'-'.join('There can only one.'.split())\n",
    "    'There-can-only-one.'\n",
    "\n",
    "\n",
    "\"\"\"\n",
    "\n",
    "print('Remember, remember, the fifth of July.'.split())\n",
    "print('-'.join('There can only one.'.split()))"
   ]
  },
  {
   "cell_type": "code",
   "execution_count": 18,
   "id": "b39eeec7",
   "metadata": {},
   "outputs": [
    {
     "name": "stdout",
     "output_type": "stream",
     "text": [
      "***********format-me\n",
      "format-me***********\n",
      "*****format-me******\n"
     ]
    }
   ],
   "source": [
    "\"\"\"\n",
    "9. What are the methods for right-justifying, left-justifying, and centering a string?\n",
    "    - rjust()\n",
    "    - ljust()\n",
    "    - center()\n",
    "\"\"\"\n",
    "\n",
    "s = \"format-me\"\n",
    "\n",
    "print(s.rjust(20, \"*\"))\n",
    "print(s.ljust(20,\"*\"))\n",
    "print(s.center(20,\"*\"))"
   ]
  },
  {
   "cell_type": "code",
   "execution_count": 22,
   "id": "337c4336",
   "metadata": {},
   "outputs": [
    {
     "name": "stdout",
     "output_type": "stream",
     "text": [
      "   trim-me  \n",
      "trim-me\n"
     ]
    }
   ],
   "source": [
    "\"\"\"\n",
    "10. What is the best way to remove whitespace characters from the start or end?\n",
    "    - strip()\n",
    "\"\"\"\n",
    "\n",
    "s = \"   trim-me  \"\n",
    "print(s)\n",
    "print(s.strip())"
   ]
  },
  {
   "cell_type": "code",
   "execution_count": null,
   "id": "379d52df",
   "metadata": {},
   "outputs": [],
   "source": []
  }
 ],
 "metadata": {
  "kernelspec": {
   "display_name": "Python 3 (ipykernel)",
   "language": "python",
   "name": "python3"
  },
  "language_info": {
   "codemirror_mode": {
    "name": "ipython",
    "version": 3
   },
   "file_extension": ".py",
   "mimetype": "text/x-python",
   "name": "python",
   "nbconvert_exporter": "python",
   "pygments_lexer": "ipython3",
   "version": "3.9.7"
  }
 },
 "nbformat": 4,
 "nbformat_minor": 5
}
