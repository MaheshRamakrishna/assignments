{
 "cells": [
  {
   "cell_type": "markdown",
   "id": "5606510a",
   "metadata": {},
   "source": [
    "# Assignment_5"
   ]
  },
  {
   "cell_type": "raw",
   "id": "cab2914e",
   "metadata": {},
   "source": [
    "1. What does an empty dictionary's code look like?\n",
    "2. What is the value of a dictionary value with the key 'foo' and the value 42?\n",
    "3. What is the most significant distinction between a dictionary and a list?\n",
    "4. What happens if you try to access spam['foo'] if spam is {'bar': 100}?\n",
    "5. If a dictionary is stored in spam, what is the difference between the expressions 'cat' in spam and 'cat' in spam.keys()?\n",
    "6. If a dictionary is stored in spam, what is the difference between the expressions 'cat' in spam and 'cat' in spam.values()?\n",
    "7. What is a shortcut for the following code?\n",
    "if 'color' not in spam:\n",
    "spam['color'] = 'black'\n",
    "\n",
    "8. How do you \"pretty print\" dictionary values using which module and function?\n"
   ]
  },
  {
   "cell_type": "code",
   "execution_count": null,
   "id": "a13f46c3",
   "metadata": {},
   "outputs": [],
   "source": [
    "\"\"\"\n",
    "1. What does an empty dictionary's code look like?\n",
    "\"\"\"\n",
    "d = {}\n"
   ]
  },
  {
   "cell_type": "code",
   "execution_count": null,
   "id": "5fc79802",
   "metadata": {},
   "outputs": [],
   "source": [
    "\"\"\"\n",
    "2. What is the value of a dictionary value with the key 'foo' and the value 42?\n",
    "{'foo' : '42'}\n",
    "\"\"\"\n",
    "\n",
    "d = {\"foo\" : \"42\"}\n",
    "d"
   ]
  },
  {
   "cell_type": "code",
   "execution_count": null,
   "id": "a87e37cb",
   "metadata": {},
   "outputs": [],
   "source": [
    "\"\"\"\n",
    "3. What is the most significant distinction between a dictionary and a list?\n",
    "    - dictionary is data type with key and value | list is a collection of any objects like array\n",
    "    - dictionary is represented with {\"key\" : \"value\"} | list is represented with [v1, v2]\n",
    "    - dictionary elements are accessed using key-values | list data is accessed using index\n",
    "    - dictionary do not maintain any order | list elements are maintained with order\n",
    "\n",
    "\"\"\""
   ]
  },
  {
   "cell_type": "code",
   "execution_count": null,
   "id": "00f710e8",
   "metadata": {},
   "outputs": [],
   "source": [
    "\"\"\"\n",
    "5. If a dictionary is stored in spam, \n",
    "what is the difference between the expressions 'cat' in spam and 'cat' in spam.keys()?\n",
    "\n",
    "    - 'cat' in spam means, 'cat' is one of the element in spam dictionary but it can be either a key or value\n",
    "    - 'cat' in spam.keys() means 'cat' is definitely a key in spam\n",
    "\n",
    "\n",
    "\"\"\"\n"
   ]
  },
  {
   "cell_type": "code",
   "execution_count": null,
   "id": "84ee26f5",
   "metadata": {},
   "outputs": [],
   "source": [
    "\"\"\"\n",
    "6. If a dictionary is stored in spam, what is the difference between the expressions 'cat' in spam \n",
    "and 'cat' in spam.values()?\n",
    "\n",
    "    - 'cat' in spam means, 'cat' is one of the element in spam dictionary but it can be either a key or value\n",
    "    - 'cat' in spam.values() means 'cat' is definitely a value in spam\n",
    "\n",
    "\"\"\""
   ]
  },
  {
   "cell_type": "code",
   "execution_count": 2,
   "id": "1f003ea5",
   "metadata": {},
   "outputs": [],
   "source": [
    "\"\"\"\n",
    "7. What is a shortcut for the following code?\n",
    "if 'color' not in spam:\n",
    "spam['color'] = 'black'\n",
    "\n",
    "    - directly assign key and value to spam\n",
    "\"\"\"\n",
    "spam = {}\n",
    "spam['color'] = 'black'"
   ]
  },
  {
   "cell_type": "code",
   "execution_count": 12,
   "id": "396a338d",
   "metadata": {},
   "outputs": [
    {
     "name": "stdout",
     "output_type": "stream",
     "text": [
      "{'key1': 'value1', 'key2': 'value2', 'key3': 'value3', 'key4': [2, 23, 2, 3]}\n"
     ]
    },
    {
     "data": {
      "text/plain": [
       "'{\"key1\": \"value1\", \"key2\": \"value2\", \"key3\": \"value3\", \"key4\": [2, 23, 2, 3]}'"
      ]
     },
     "execution_count": 12,
     "metadata": {},
     "output_type": "execute_result"
    }
   ],
   "source": [
    "\"\"\"\n",
    "8. How do you \"pretty print\" dictionary values using which module and function?\n",
    "\n",
    "\"\"\"\n",
    "import pprint\n",
    "import json\n",
    "\n",
    "d = {\"key1\" : \"value1\", \"key2\" : \"value2\", \"key3\" : \"value3\", \"key4\" : [2,23,2,3]}\n",
    "pprint.pprint(d)\n",
    "\n",
    "json.dumps(d)"
   ]
  },
  {
   "cell_type": "code",
   "execution_count": null,
   "id": "af3d9def",
   "metadata": {},
   "outputs": [],
   "source": []
  }
 ],
 "metadata": {
  "kernelspec": {
   "display_name": "Python 3 (ipykernel)",
   "language": "python",
   "name": "python3"
  },
  "language_info": {
   "codemirror_mode": {
    "name": "ipython",
    "version": 3
   },
   "file_extension": ".py",
   "mimetype": "text/x-python",
   "name": "python",
   "nbconvert_exporter": "python",
   "pygments_lexer": "ipython3",
   "version": "3.9.7"
  }
 },
 "nbformat": 4,
 "nbformat_minor": 5
}
