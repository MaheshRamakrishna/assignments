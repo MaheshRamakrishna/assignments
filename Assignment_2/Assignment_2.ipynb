{
 "cells": [
  {
   "cell_type": "markdown",
   "id": "8e3981eb",
   "metadata": {},
   "source": [
    "# Assignment_2"
   ]
  },
  {
   "cell_type": "code",
   "execution_count": 3,
   "id": "2d78c116",
   "metadata": {},
   "outputs": [
    {
     "data": {
      "text/plain": [
       "'\\n1. What are the two values of the Boolean data type? How do you write them?\\n\\nTwo values are True and False of type bool.\\n\\nTrue represents 1\\nFalse represents 0\\n'"
      ]
     },
     "execution_count": 3,
     "metadata": {},
     "output_type": "execute_result"
    }
   ],
   "source": [
    "\"\"\"\n",
    "1. What are the two values of the Boolean data type? How do you write them?\n",
    "\n",
    "Two values are True and False of type bool.\n",
    "\n",
    "True represents 1\n",
    "False represents 0\n",
    "\"\"\"\n",
    "\n"
   ]
  },
  {
   "cell_type": "code",
   "execution_count": 13,
   "id": "e2a47063",
   "metadata": {},
   "outputs": [
    {
     "data": {
      "text/plain": [
       "'\\n2. What are the three different types of Boolean operators?\\n\\nand  - follows the and table as below\\n    True and True  ----> True \\n    True and False -----> False\\n    False and True -----> False\\n    False and False -----> False\\n\\nor\\n    True or True -----> True\\n    True or False -----> True\\n    False or True -----> True\\n    False or False -----> False\\n\\nnot\\n    not True -----> False\\n    not False -----> True\\n'"
      ]
     },
     "execution_count": 13,
     "metadata": {},
     "output_type": "execute_result"
    }
   ],
   "source": [
    "\"\"\"\n",
    "2. What are the three different types of Boolean operators?\n",
    "\n",
    "and  - follows the and table as below\n",
    "    True and True  ----> True \n",
    "    True and False -----> False\n",
    "    False and True -----> False\n",
    "    False and False -----> False\n",
    "\n",
    "or\n",
    "    True or True -----> True\n",
    "    True or False -----> True\n",
    "    False or True -----> True\n",
    "    False or False -----> False\n",
    "\n",
    "not\n",
    "    not True -----> False\n",
    "    not False -----> True\n",
    "\"\"\"\n"
   ]
  },
  {
   "cell_type": "code",
   "execution_count": 14,
   "id": "13981a2c",
   "metadata": {},
   "outputs": [
    {
     "data": {
      "text/plain": [
       "\"\\n3. Make a list of each Boolean operator's truth tables \\n(i.e. every possible combination of Boolean values for the operator and what it evaluate ).\\n\\nand  - follows the and table as below\\n    True and True  ----> True \\n    True and False -----> False\\n    False and True -----> False\\n    False and False -----> False\\n\\nor\\n    True or True -----> True\\n    True or False -----> True\\n    False or True -----> True\\n    False or False -----> False\\n\\nnot\\n    not True -----> False\\n    not False -----> True\\n\\n\""
      ]
     },
     "execution_count": 14,
     "metadata": {},
     "output_type": "execute_result"
    }
   ],
   "source": [
    "\"\"\"\n",
    "3. Make a list of each Boolean operator's truth tables \n",
    "(i.e. every possible combination of Boolean values for the operator and what it evaluate ).\n",
    "\n",
    "and  - follows the and table as below\n",
    "    True and True  ----> True \n",
    "    True and False -----> False\n",
    "    False and True -----> False\n",
    "    False and False -----> False\n",
    "\n",
    "or\n",
    "    True or True -----> True\n",
    "    True or False -----> True\n",
    "    False or True -----> True\n",
    "    False or False -----> False\n",
    "\n",
    "not\n",
    "    not True -----> False\n",
    "    not False -----> True\n",
    "\n",
    "\"\"\""
   ]
  },
  {
   "cell_type": "code",
   "execution_count": 15,
   "id": "4bcedd06",
   "metadata": {},
   "outputs": [
    {
     "data": {
      "text/plain": [
       "'\\n4. What are the values of the following expressions?\\n(5 > 4) and (3 == 5) ------> False\\n\\nnot (5 > 4) ---------> False\\n\\n(5 > 4) or (3 == 5) -------> True\\n\\nnot ((5 > 4) or (3 == 5)) -------> False\\n\\n(True and True) and (True == False) ------> False\\n\\n(not False) or (not True) ---------> True\\n\\n'"
      ]
     },
     "execution_count": 15,
     "metadata": {},
     "output_type": "execute_result"
    }
   ],
   "source": [
    "\"\"\"\n",
    "4. What are the values of the following expressions?\n",
    "(5 > 4) and (3 == 5) ------> False\n",
    "\n",
    "not (5 > 4) ---------> False\n",
    "\n",
    "(5 > 4) or (3 == 5) -------> True\n",
    "\n",
    "not ((5 > 4) or (3 == 5)) -------> False\n",
    "\n",
    "(True and True) and (True == False) ------> False\n",
    "\n",
    "(not False) or (not True) ---------> True\n",
    "\n",
    "\"\"\""
   ]
  },
  {
   "cell_type": "code",
   "execution_count": 18,
   "id": "2d3a2ee1",
   "metadata": {},
   "outputs": [
    {
     "data": {
      "text/plain": [
       "\"\\n5. What are the six comparison operators?\\n\\n< ---- Lesser than operator\\n  eg: 3 < 5\\n\\n> ---- Greater than operator\\n  eg: 10 > 2\\n  \\n== ------ Equality operator\\n  eg: 100 == 100\\n  \\n<= -------- Less than or equal to operator\\n  eg: 4 <= 4\\n  \\n>= ---------- Greater than or equal to operator\\n  eg: 10 >= 10\\n \\n!= ----------- Not equal to operator\\n  eg: 'string1' != 'string2' \\n\""
      ]
     },
     "execution_count": 18,
     "metadata": {},
     "output_type": "execute_result"
    }
   ],
   "source": [
    "\"\"\"\n",
    "5. What are the six comparison operators?\n",
    "\n",
    "< ---- Lesser than operator\n",
    "  eg: 3 < 5\n",
    "\n",
    "> ---- Greater than operator\n",
    "  eg: 10 > 2\n",
    "  \n",
    "== ------ Equal to operator\n",
    "  eg: 100 == 100\n",
    "  \n",
    "<= -------- Less than or equal to operator\n",
    "  eg: 4 <= 4\n",
    "  \n",
    ">= ---------- Greater than or equal to operator\n",
    "  eg: 10 >= 10\n",
    " \n",
    "!= ----------- Not equal to operator\n",
    "  eg: 'string1' != 'string2' \n",
    "\"\"\"\n"
   ]
  },
  {
   "cell_type": "code",
   "execution_count": 19,
   "id": "cf86cb33",
   "metadata": {},
   "outputs": [
    {
     "data": {
      "text/plain": [
       "\"\\n6. How do you tell the difference between the equal to and assignment operators?\\nDescribe a condition and when you would use one.\\n\\n==  -----> this is equal to operator\\nEqual to operator is used during comparison as below.\\nif 'simple' == 'simple':\\n    pass\\n\\n\\n=   -----> assignment operator\\nAssignment operator is used when assigning a value to a variable.\\ns = 'simple'\\n\\n\\n\""
      ]
     },
     "execution_count": 19,
     "metadata": {},
     "output_type": "execute_result"
    }
   ],
   "source": [
    "\"\"\"\n",
    "6. How do you tell the difference between the equal to and assignment operators?\n",
    "Describe a condition and when you would use one.\n",
    "\n",
    "==  -----> this is equal to operator\n",
    "Equal to operator is used during comparison as below.\n",
    "if 'simple' == 'simple':\n",
    "    pass\n",
    "\n",
    "\n",
    "=   -----> assignment operator\n",
    "Assignment operator is used when assigning a value to a variable.\n",
    "s = 'simple'\n",
    "\n",
    "\n",
    "\"\"\""
   ]
  },
  {
   "cell_type": "code",
   "execution_count": 20,
   "id": "7e7c4448",
   "metadata": {},
   "outputs": [
    {
     "name": "stdout",
     "output_type": "stream",
     "text": [
      "spam\n",
      "spam\n"
     ]
    }
   ],
   "source": [
    "\"\"\"\n",
    "7. Identify the three blocks in this code:\n",
    "spam = 0           ---> outer-block\n",
    "if spam == 10:     ---> block-1-start\n",
    "print('eggs')      ---> block-1-end\n",
    "if spam > 5:       ---> block-2-start\n",
    "print('bacon')     ---> block-2-end\n",
    "else:              ---> block-3-start\n",
    "print('ham')       ---> block-3-end\n",
    "print('spam')      ---> outer-block\n",
    "print('spam')      ---> outer-block\n",
    "\n",
    "\"\"\"\n",
    "\n",
    "spam = 0 # outer block\n",
    "\n",
    "# block-1\n",
    "if spam == 10:\n",
    "    print('eggs')\n",
    "\n",
    "\n",
    "if spam > 5:         # block-2\n",
    "    print('bacon')\n",
    "else:                # block-3\n",
    "    print('ham')\n",
    "        \n",
    "print('spam') # outer block\n",
    "print('spam') # outer block\n"
   ]
  },
  {
   "cell_type": "code",
   "execution_count": 26,
   "id": "e3867f9f",
   "metadata": {},
   "outputs": [
    {
     "name": "stdout",
     "output_type": "stream",
     "text": [
      "Enter value for spam dflsk\n",
      "Greetings!\n"
     ]
    }
   ],
   "source": [
    "\"\"\"\n",
    "8. Write code that prints Hello if 1 is stored in spam, prints Howdy if 2 is stored in spam, \n",
    "and prints Greetings! if anything else is stored in spam.\n",
    "\"\"\"\n",
    "\n",
    "spam = input(\"Enter value for spam \")\n",
    "\n",
    "if spam == '1':\n",
    "    print('Hello')\n",
    "elif spam == '2':\n",
    "    print('Howdy')\n",
    "else:\n",
    "    print('Greetings!')"
   ]
  },
  {
   "cell_type": "code",
   "execution_count": 29,
   "id": "55de3f3b",
   "metadata": {},
   "outputs": [
    {
     "ename": "KeyboardInterrupt",
     "evalue": "",
     "output_type": "error",
     "traceback": [
      "\u001b[0;31m---------------------------------------------------------------------------\u001b[0m",
      "\u001b[0;31mKeyboardInterrupt\u001b[0m                         Traceback (most recent call last)",
      "\u001b[0;32m/var/folders/nx/b72lb8fj2m33rjq3l00ysfmr0000gn/T/ipykernel_1005/850878248.py\u001b[0m in \u001b[0;36m<module>\u001b[0;34m\u001b[0m\n\u001b[1;32m      5\u001b[0m \"\"\"\n\u001b[1;32m      6\u001b[0m \u001b[0;32mwhile\u001b[0m\u001b[0;34m(\u001b[0m\u001b[0;32mTrue\u001b[0m\u001b[0;34m)\u001b[0m\u001b[0;34m:\u001b[0m\u001b[0;34m\u001b[0m\u001b[0;34m\u001b[0m\u001b[0m\n\u001b[0;32m----> 7\u001b[0;31m     \u001b[0;32mpass\u001b[0m\u001b[0;34m\u001b[0m\u001b[0;34m\u001b[0m\u001b[0m\n\u001b[0m",
      "\u001b[0;31mKeyboardInterrupt\u001b[0m: "
     ]
    }
   ],
   "source": [
    "\"\"\"\n",
    "9.If your programme is stuck in an endless loop, what keys you’ll press?\n",
    "\n",
    "--Keyboard Interrupt by stopping/interrupting the Kernel\n",
    "\"\"\"\n",
    "while(True):\n",
    "    pass"
   ]
  },
  {
   "cell_type": "code",
   "execution_count": 30,
   "id": "c9572ac8",
   "metadata": {},
   "outputs": [
    {
     "data": {
      "text/plain": [
       "'\\n10. How can you tell the difference between break and continue?\\n\\nbreak -- will break out of the loop\\n  eg:\\n    for i in list_object:\\n        if i == 10:\\n          break  # breaks out of the loop\\n          \\n          \\ncontinue -- will continue the loop, by skipping logic/code snippet below the continue statement\\n  eg:\\n    for i in list_object:\\n        if i == 5:\\n            continue # when i is 5, the loop will iterate to next value without printing 5\\n            print(i)\\n \\n'"
      ]
     },
     "execution_count": 30,
     "metadata": {},
     "output_type": "execute_result"
    }
   ],
   "source": [
    "\"\"\"\n",
    "10. How can you tell the difference between break and continue?\n",
    "\n",
    "break -- will break out of the loop\n",
    "  eg:\n",
    "    for i in list_object:\n",
    "        if i == 10:\n",
    "          break  # breaks out of the loop\n",
    "          \n",
    "          \n",
    "continue -- will continue the loop, by skipping logic/code snippet below the continue statement\n",
    "  eg:\n",
    "    for i in list_object:\n",
    "        if i == 5:\n",
    "            continue # when i is 5, the loop will iterate to next value without printing 5\n",
    "            print(i)\n",
    " \n",
    "\"\"\""
   ]
  },
  {
   "cell_type": "code",
   "execution_count": 31,
   "id": "0ad6e9f2",
   "metadata": {},
   "outputs": [
    {
     "data": {
      "text/plain": [
       "'\\n11. In a for loop, what is the difference between range(10), range(0, 10), and range(0, 10, 1)?\\n\\nrange(10)  -- by default the range would start from 0 till 10(without 10) with a jump of +1\\n\\nrange(0,10) -- this range will start from 0 till 10(without 10) and default jump is +1\\n\\nrange(0, 10, 1) -- this range will start from 0 till 10(without 10) and a jump as 1\\n\\nall in all, all these range function are generating same set of values.\\n\\n'"
      ]
     },
     "execution_count": 31,
     "metadata": {},
     "output_type": "execute_result"
    }
   ],
   "source": [
    "\"\"\"\n",
    "11. In a for loop, what is the difference between range(10), range(0, 10), and range(0, 10, 1)?\n",
    "\n",
    "range(10)  -- by default the range would start from 0 till 10(without 10) with a jump of +1\n",
    "\n",
    "range(0,10) -- this range will start from 0 till 10(without 10) and default jump is +1\n",
    "\n",
    "range(0, 10, 1) -- this range will start from 0 till 10(without 10) and a jump as 1\n",
    "\n",
    "all in all, all these range function are generating same set of values.\n",
    "\n",
    "\"\"\""
   ]
  },
  {
   "cell_type": "code",
   "execution_count": 47,
   "id": "5432e8da",
   "metadata": {},
   "outputs": [
    {
     "name": "stdout",
     "output_type": "stream",
     "text": [
      "values from for-loop\n",
      "1\n",
      "2\n",
      "3\n",
      "4\n",
      "5\n",
      "6\n",
      "7\n",
      "8\n",
      "9\n",
      "10\n",
      "\n",
      "values from while-loop\n",
      "1\n",
      "2\n",
      "3\n",
      "4\n",
      "5\n",
      "6\n",
      "7\n",
      "8\n",
      "9\n",
      "10\n"
     ]
    }
   ],
   "source": [
    "\"\"\"\n",
    "12. Write a short program that prints the numbers 1 to 10 using a for loop. \n",
    "Then write an equivalent program that prints the numbers 1 to 10 using a while loop.\n",
    "\"\"\"\n",
    "\n",
    "def for_program():\n",
    "    \"\"\"\n",
    "    This program prints the number from 1 to 10 using for looping on a range.\n",
    "    \"\"\"\n",
    "    print('values from for-loop')\n",
    "    for i in range(1,11):\n",
    "        print(i)\n",
    "    print('')\n",
    "        \n",
    "def while_program():\n",
    "    \"\"\"\n",
    "    This program prints the number from 1 to 10 using while loop\n",
    "    \"\"\"\n",
    "    print('values from while-loop')\n",
    "    i = 0\n",
    "    while(i < len(range(10))):\n",
    "        print(i+1)\n",
    "        i += 1\n",
    "\n",
    "for_program()\n",
    "while_program()"
   ]
  },
  {
   "cell_type": "code",
   "execution_count": 1,
   "id": "f118c6ff",
   "metadata": {},
   "outputs": [
    {
     "name": "stdout",
     "output_type": "stream",
     "text": [
      "in bacon funtionality\n"
     ]
    }
   ],
   "source": [
    "\"\"\"\n",
    "13. If you had a function named bacon() inside a module named spam, how would you call it after importing spam?\n",
    "\"\"\"\n",
    "import logging\n",
    "from spam import bacon\n",
    "\n",
    "bacon()"
   ]
  },
  {
   "cell_type": "code",
   "execution_count": null,
   "id": "37bb5e86",
   "metadata": {},
   "outputs": [],
   "source": []
  }
 ],
 "metadata": {
  "kernelspec": {
   "display_name": "Python 3 (ipykernel)",
   "language": "python",
   "name": "python3"
  },
  "language_info": {
   "codemirror_mode": {
    "name": "ipython",
    "version": 3
   },
   "file_extension": ".py",
   "mimetype": "text/x-python",
   "name": "python",
   "nbconvert_exporter": "python",
   "pygments_lexer": "ipython3",
   "version": "3.9.7"
  }
 },
 "nbformat": 4,
 "nbformat_minor": 5
}
