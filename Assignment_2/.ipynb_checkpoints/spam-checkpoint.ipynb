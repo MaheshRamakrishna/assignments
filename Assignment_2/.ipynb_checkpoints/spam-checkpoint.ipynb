{
 "cells": [
  {
   "cell_type": "code",
   "execution_count": 2,
   "id": "9d5f6605",
   "metadata": {},
   "outputs": [],
   "source": [
    "\"\"\"\n",
    "Assignment_2\n",
    "Module spam\n",
    "\"\"\"\n",
    "import logging\n",
    "\n",
    "def bacon() :\n",
    "    \"\"\"\n",
    "    module bacon functionality\n",
    "    \"\"\"\n",
    "    logging.info(\"in function bacon\")\n",
    "    try :\n",
    "        logging.info(\"processing bacon function\")\n",
    "        print(\"in bacon funtionality\")\n",
    "    except Exception as e :\n",
    "        logging.error(e)\n",
    "\n"
   ]
  },
  {
   "cell_type": "code",
   "execution_count": null,
   "id": "743e01bd",
   "metadata": {},
   "outputs": [],
   "source": []
  }
 ],
 "metadata": {
  "kernelspec": {
   "display_name": "Python 3 (ipykernel)",
   "language": "python",
   "name": "python3"
  },
  "language_info": {
   "codemirror_mode": {
    "name": "ipython",
    "version": 3
   },
   "file_extension": ".py",
   "mimetype": "text/x-python",
   "name": "python",
   "nbconvert_exporter": "python",
   "pygments_lexer": "ipython3",
   "version": "3.9.7"
  }
 },
 "nbformat": 4,
 "nbformat_minor": 5
}
