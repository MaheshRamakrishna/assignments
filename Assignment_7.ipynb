{
 "cells": [
  {
   "cell_type": "markdown",
   "id": "3d047e23",
   "metadata": {},
   "source": [
    "# Assignment_7"
   ]
  },
  {
   "cell_type": "raw",
   "id": "ad6fd0c2",
   "metadata": {},
   "source": [
    "1. What is the name of the feature responsible for generating Regex objects?\n",
    "2. Why do raw strings often appear in Regex objects?\n",
    "3. What is the return value of the search() method?\n",
    "4. From a Match item, how do you get the actual strings that match the pattern?\n",
    "5. In the regex which created from the r'(\\d\\d\\d)-(\\d\\d\\d-\\d\\d\\d\\d)', what does group zero cover? Group 2? Group 1?\n",
    "6. In standard expression syntax, parentheses and intervals have distinct meanings. How can you tell a regex that you want it to fit real parentheses and periods?\n",
    "7. The findall() method returns a string list or a list of string tuples. What causes it to return one of the two options?\n",
    "8. In standard expressions, what does the | character mean?\n",
    "9. In regular expressions, what does the character ? stand for?\n",
    "10.In regular expressions, what is the difference between the + and * characters?\n",
    "11. What is the difference between {4} and {4,5} in regular expression?\n",
    "12. What do you mean by the \\d, \\w, and \\s shorthand character classes signify in regular expressions?\n",
    "13. What do means by \\D, \\W, and \\S shorthand character classes signify in regular expressions?\n",
    "14. What is the difference between . and .?\n",
    "15. What is the syntax for matching both numbers and lowercase letters with a character class?\n",
    "16. What is the procedure for making a normal expression in regax case insensitive?\n",
    "17. What does the . character normally match? What does it match if re.DOTALL is passed as 2nd argument in re.compile()?\n",
    "18. If numReg = re.compile(r'\\d+'), what will numRegex.sub('X', '11 drummers, 10 pipers, five rings, 4 hen') return?\n",
    "19. What does passing re.VERBOSE as the 2nd argument to re.compile() allow to do?\n",
    "20. How would you write a regex that match a number with comma for every three digits? It must match the given following:\n",
    "'42'\n",
    "'1,234'\n",
    "'6,368,745'\n",
    "but not the following:\n",
    "'12,34,567' (which has only two digits between the commas)\n",
    "'1234' (which lacks commas)\n",
    "21. How would you write a regex that matches the full name of someone whose last name is Watanabe? You can assume that the first name that comes before it will always be one word that begins with a capital letter. The regex must match the following:\n",
    "'Haruto Watanabe'\n",
    "'Alice Watanabe'\n",
    "'RoboCop Watanabe'\n",
    "but not the following:\n",
    "'haruto Watanabe' (where the first name is not capitalized)\n",
    "'Mr. Watanabe' (where the preceding word has a nonletter character)\n",
    "'Watanabe' (which has no first name)\n",
    "'Haruto watanabe' (where Watanabe is not capitalized)\n",
    "22. How would you write a regex that matches a sentence where the first word is either Alice, Bob, or Carol; the second word is either eats, pets, or throws; the third word is apples, cats, or baseballs; and the sentence ends with a period? This regex should be case-insensitive. It must match the following:\n",
    "'Alice eats apples.'\n",
    "'Bob pets cats.'\n",
    "'Carol throws baseballs.'\n",
    "'Alice throws Apples.'\n",
    "'BOB EATS CATS.'\n",
    "but not the following:\n",
    "'RoboCop eats apples.'\n",
    "'ALICE THROWS FOOTBALLS.'\n",
    "'Carol eats 7 cats.'\n",
    "\n"
   ]
  },
  {
   "cell_type": "code",
   "execution_count": null,
   "id": "9360027d",
   "metadata": {},
   "outputs": [],
   "source": [
    "\"\"\"\n",
    "1. What is the name of the feature responsible for generating Regex objects?\n",
    "    - import re\n",
    "\"\"\""
   ]
  },
  {
   "cell_type": "code",
   "execution_count": null,
   "id": "b7db550c",
   "metadata": {},
   "outputs": [],
   "source": [
    "\"\"\"\n",
    "2. Why do raw strings often appear in Regex objects?\n",
    "    - To avoid backslashes \n",
    "\"\"\""
   ]
  },
  {
   "cell_type": "code",
   "execution_count": 8,
   "id": "7d7106f9",
   "metadata": {},
   "outputs": [
    {
     "name": "stdout",
     "output_type": "stream",
     "text": [
      "(0, 6)\n"
     ]
    }
   ],
   "source": [
    "\"\"\"\n",
    "3. What is the return value of the search() method?\n",
    "    - returns Match objects\n",
    "\"\"\"\n",
    "import re\n",
    "s = \"simple string\"\n",
    "m = re.search('simple', s)\n",
    "print(m.span())"
   ]
  },
  {
   "cell_type": "code",
   "execution_count": 11,
   "id": "ac234aad",
   "metadata": {},
   "outputs": [
    {
     "name": "stdout",
     "output_type": "stream",
     "text": [
      "simple\n"
     ]
    }
   ],
   "source": [
    "\"\"\"\n",
    "4. From a Match item, how do you get the actual strings that match the pattern?\n",
    "    - using group()\n",
    "\"\"\"\n",
    "import re\n",
    "s = \"simple string\"\n",
    "m = re.search('simple', s)\n",
    "print(m.group())"
   ]
  },
  {
   "cell_type": "code",
   "execution_count": 20,
   "id": "b44740e6",
   "metadata": {},
   "outputs": [
    {
     "data": {
      "text/plain": [
       "[('123', '456-2329')]"
      ]
     },
     "execution_count": 20,
     "metadata": {},
     "output_type": "execute_result"
    }
   ],
   "source": [
    "\"\"\"\n",
    "5. In the regex which created from the r'(\\d\\d\\d)-(\\d\\d\\d-\\d\\d\\d\\d)', \n",
    "    what does group zero cover? Group 2? Group 1?\n",
    "    - group zero : entire match\n",
    "    - group one : first set (\\d\\d\\d)\n",
    "    - group three : second set (\\d\\d\\d-\\d\\d\\d\\d)\n",
    "\"\"\"\n",
    "import re\n",
    "s = \"123-456-2329\"\n",
    "\n",
    "f = re.findall(r'(\\d\\d\\d)-(\\d\\d\\d-\\d\\d\\d\\d)', s)\n",
    "f"
   ]
  },
  {
   "cell_type": "code",
   "execution_count": null,
   "id": "c900f1da",
   "metadata": {},
   "outputs": [],
   "source": [
    "\"\"\"\n",
    "6. In standard expression syntax, parentheses and intervals have distinct meanings. \n",
    "    How can you tell a regex that you want it to fit real parentheses and periods?\n",
    "    - using backslash \n",
    "        \\.\n",
    "        \\(\n",
    "        \\)\n",
    "\"\"\""
   ]
  },
  {
   "cell_type": "code",
   "execution_count": 21,
   "id": "eebd3dda",
   "metadata": {},
   "outputs": [
    {
     "data": {
      "text/plain": [
       "['simple']"
      ]
     },
     "execution_count": 21,
     "metadata": {},
     "output_type": "execute_result"
    }
   ],
   "source": [
    "\"\"\"\n",
    "7. The findall() method returns a string list or a list of string tuples. \n",
    "    What causes it to return one of the two options?\n",
    "    - returns a tuple of values for multiple groups otherwise list of strings\n",
    "\"\"\"\n",
    "import re\n",
    "s = \"simple string\"\n",
    "m = re.findall('simple', s)\n",
    "m"
   ]
  },
  {
   "cell_type": "code",
   "execution_count": 25,
   "id": "7fe09575",
   "metadata": {},
   "outputs": [
    {
     "data": {
      "text/plain": [
       "[('123', ''), ('456', ''), ('232', '')]"
      ]
     },
     "execution_count": 25,
     "metadata": {},
     "output_type": "execute_result"
    }
   ],
   "source": [
    "\"\"\"\n",
    "8. In standard expressions, what does the | character mean?\n",
    "    - either, or between two groups\n",
    "\"\"\"\n",
    "import re\n",
    "s = \"123-456-2329\"\n",
    "\n",
    "f = re.findall(r'(\\d\\d\\d)|(\\d\\d\\d-\\d\\d\\d\\d)', s)\n",
    "f"
   ]
  },
  {
   "cell_type": "code",
   "execution_count": 26,
   "id": "f36e1fd3",
   "metadata": {},
   "outputs": [
    {
     "data": {
      "text/plain": [
       "[('', '456-2329')]"
      ]
     },
     "execution_count": 26,
     "metadata": {},
     "output_type": "execute_result"
    }
   ],
   "source": [
    "\"\"\"\n",
    "9. In regular expressions, what does the character ? stand for?\n",
    "    - match zero or one of the preceding group\n",
    "\"\"\"\n",
    "import re\n",
    "s = \"123-456-2329\"\n",
    "\n",
    "f = re.findall(r'(\\d\\d\\d)?(\\d\\d\\d-\\d\\d\\d\\d)', s)\n",
    "f"
   ]
  },
  {
   "cell_type": "code",
   "execution_count": 28,
   "id": "d37a7c2c",
   "metadata": {},
   "outputs": [
    {
     "name": "stdout",
     "output_type": "stream",
     "text": [
      "['123', '', '456', '', '2329', '']\n",
      "['123', '456', '2329']\n"
     ]
    }
   ],
   "source": [
    "\"\"\"\n",
    "10.In regular expressions, what is the difference between the + and * characters?\n",
    "    - match one or more : +\n",
    "    - match zero or more : *\n",
    "\n",
    "\"\"\"\n",
    "import re\n",
    "s = \"123-456-2329\"\n",
    "\n",
    "f = re.findall(r'\\d*', s)\n",
    "print(f)\n",
    "\n",
    "f = re.findall(r'\\d+', s)\n",
    "print(f)"
   ]
  },
  {
   "cell_type": "code",
   "execution_count": 29,
   "id": "053cbf18",
   "metadata": {},
   "outputs": [
    {
     "data": {
      "text/plain": [
       "['456-2329']"
      ]
     },
     "execution_count": 29,
     "metadata": {},
     "output_type": "execute_result"
    }
   ],
   "source": [
    "\"\"\"\n",
    "11. What is the difference between {4} and {4,5} in regular expression?\n",
    "    - {4} matches exactly 4 instances of the preceding group\n",
    "    - {4,5} matches between 4 and 5 instances.\n",
    "\n",
    "\"\"\"\n",
    "import re\n",
    "s = \"123-456-2329\"\n",
    "\n",
    "f = re.findall(r'\\d{3}-\\d{4,5}', s)\n",
    "f"
   ]
  },
  {
   "cell_type": "code",
   "execution_count": 31,
   "id": "98c322a0",
   "metadata": {},
   "outputs": [
    {
     "data": {
      "text/plain": [
       "['1s ']"
      ]
     },
     "execution_count": 31,
     "metadata": {},
     "output_type": "execute_result"
    }
   ],
   "source": [
    "\"\"\"\n",
    "12. What do you mean by the \\d, \\w, and \\s shorthand character classes signify in regular expressions?\n",
    "    - digit \\d\n",
    "    - letter \\w\n",
    "    - space \\s\n",
    "\n",
    "\"\"\"\n",
    "\n",
    "import re\n",
    "s = \"1s \"\n",
    "\n",
    "f = re.findall(r'\\d\\w\\s', s)\n",
    "f"
   ]
  },
  {
   "cell_type": "code",
   "execution_count": 36,
   "id": "e2f3c487",
   "metadata": {},
   "outputs": [
    {
     "data": {
      "text/plain": [
       "['s', '2', '3']"
      ]
     },
     "execution_count": 36,
     "metadata": {},
     "output_type": "execute_result"
    }
   ],
   "source": [
    "\"\"\"\n",
    "13. What do means by \\D, \\W, and \\S shorthand character classes signify in regular expressions?\n",
    "    - Not a digit \\D\n",
    "    - Not a character \\W\n",
    "    - Not a space \\S\n",
    "\"\"\"\n",
    "\n",
    "import re\n",
    "s = \"s23\"\n",
    "\n",
    "f = re.findall(r'\\S', s)\n",
    "f"
   ]
  },
  {
   "cell_type": "code",
   "execution_count": 38,
   "id": "15baadaf",
   "metadata": {},
   "outputs": [
    {
     "data": {
      "text/plain": [
       "['23']"
      ]
     },
     "execution_count": 38,
     "metadata": {},
     "output_type": "execute_result"
    }
   ],
   "source": [
    "\"\"\"\n",
    "14. What is the difference between . and .?\n",
    "    -\n",
    "    . performs greedy match\n",
    "    .? performs non greedy match\n",
    "\"\"\"\n",
    "\n",
    "\n",
    "import re\n",
    "s = \"s23\"\n",
    "\n",
    "f = re.findall(r'\\d.?', s)\n",
    "f"
   ]
  },
  {
   "cell_type": "code",
   "execution_count": 39,
   "id": "b63470dd",
   "metadata": {},
   "outputs": [
    {
     "data": {
      "text/plain": [
       "['s', '2', '3']"
      ]
     },
     "execution_count": 39,
     "metadata": {},
     "output_type": "execute_result"
    }
   ],
   "source": [
    "\"\"\"\n",
    "15. What is the syntax for matching both numbers and lowercase letters with a character class?\n",
    "    - [0-9a-z] or [a-z9-9]\n",
    "\"\"\"\n",
    "import re\n",
    "s = \"s23\"\n",
    "\n",
    "f = re.findall(r'[0-9a-z]', s)\n",
    "f"
   ]
  },
  {
   "cell_type": "code",
   "execution_count": 4,
   "id": "555028a3",
   "metadata": {},
   "outputs": [
    {
     "name": "stdout",
     "output_type": "stream",
     "text": [
      "<re.Match object; span=(0, 4), match='tesT'>\n"
     ]
    }
   ],
   "source": [
    "\"\"\"\n",
    "16. What is the procedure for making a normal expression in regax case insensitive?\n",
    "    - re.IGNORECASE\n",
    "\"\"\"\n",
    "\n",
    "import re\n",
    "s = \"tesT\"\n",
    "v = re.search(\"test\", s, re.IGNORECASE)\n",
    "print(v)"
   ]
  },
  {
   "cell_type": "code",
   "execution_count": 12,
   "id": "08bd4ae5",
   "metadata": {},
   "outputs": [
    {
     "data": {
      "text/plain": [
       "[]"
      ]
     },
     "execution_count": 12,
     "metadata": {},
     "output_type": "execute_result"
    }
   ],
   "source": [
    "\"\"\"\n",
    "17. What does the . character normally match? \n",
    "    What does it match if re.DOTALL is passed as 2nd argument in re.compile()?\n",
    "    - . matches any character except newline char\n",
    "    - re.DOTALL matches even newline char\n",
    "\"\"\"\n",
    "\n",
    "import re\n",
    "s = \"abc\"\n",
    "\n",
    "c = re.compile(r\".\")\n",
    "d = c.findall(s, re.DOTALL)\n",
    "d"
   ]
  },
  {
   "cell_type": "code",
   "execution_count": 13,
   "id": "af362c08",
   "metadata": {},
   "outputs": [
    {
     "name": "stdout",
     "output_type": "stream",
     "text": [
      "X drummers, X pipers, five rings, X hen\n"
     ]
    }
   ],
   "source": [
    "\"\"\"\n",
    "18. If numReg = re.compile(r'\\d+'), \n",
    "    what will numRegex.sub('X', '11 drummers, 10 pipers, five rings, 4 hen') return?\n",
    "    \n",
    "    - 'X drummers, X pipers, five rings, X hen'\n",
    "\"\"\"\n",
    "import re\n",
    "\n",
    "numReg = re.compile(r'\\d+')\n",
    "\n",
    "v = numReg.sub('X', '11 drummers, 10 pipers, five rings, 4 hen')\n",
    "print(v)"
   ]
  },
  {
   "cell_type": "code",
   "execution_count": 18,
   "id": "34150955",
   "metadata": {},
   "outputs": [
    {
     "data": {
      "text/plain": [
       "['1', '2', '3']"
      ]
     },
     "execution_count": 18,
     "metadata": {},
     "output_type": "execute_result"
    }
   ],
   "source": [
    "\"\"\"\n",
    "19. What does passing re.VERBOSE as the 2nd argument to re.compile() allow to do?\n",
    "    - allows to add whitespace and comments\n",
    "\"\"\"\n",
    "\n",
    "import re\n",
    "r = re.compile(r'\\d #sdsl', re.VERBOSE)\n",
    "\n",
    "v = r.findall(\"123\")\n",
    "v"
   ]
  },
  {
   "cell_type": "code",
   "execution_count": 24,
   "id": "ba732631",
   "metadata": {},
   "outputs": [
    {
     "name": "stdout",
     "output_type": "stream",
     "text": [
      "42\n",
      "1,234\n",
      "6,368,745\n"
     ]
    },
    {
     "ename": "AttributeError",
     "evalue": "'NoneType' object has no attribute 'group'",
     "output_type": "error",
     "traceback": [
      "\u001b[0;31m---------------------------------------------------------------------------\u001b[0m",
      "\u001b[0;31mAttributeError\u001b[0m                            Traceback (most recent call last)",
      "\u001b[0;32m/var/folders/nx/b72lb8fj2m33rjq3l00ysfmr0000gn/T/ipykernel_26576/2804505575.py\u001b[0m in \u001b[0;36m<module>\u001b[0;34m\u001b[0m\n\u001b[1;32m     15\u001b[0m \u001b[0;34m\u001b[0m\u001b[0m\n\u001b[1;32m     16\u001b[0m \u001b[0;32mfor\u001b[0m \u001b[0mi\u001b[0m \u001b[0;32min\u001b[0m \u001b[0ml\u001b[0m\u001b[0;34m:\u001b[0m\u001b[0;34m\u001b[0m\u001b[0;34m\u001b[0m\u001b[0m\n\u001b[0;32m---> 17\u001b[0;31m     \u001b[0mprint\u001b[0m\u001b[0;34m(\u001b[0m\u001b[0mr\u001b[0m\u001b[0;34m.\u001b[0m\u001b[0mmatch\u001b[0m\u001b[0;34m(\u001b[0m\u001b[0mi\u001b[0m\u001b[0;34m)\u001b[0m\u001b[0;34m.\u001b[0m\u001b[0mgroup\u001b[0m\u001b[0;34m(\u001b[0m\u001b[0;34m)\u001b[0m\u001b[0;34m)\u001b[0m\u001b[0;34m\u001b[0m\u001b[0;34m\u001b[0m\u001b[0m\n\u001b[0m",
      "\u001b[0;31mAttributeError\u001b[0m: 'NoneType' object has no attribute 'group'"
     ]
    }
   ],
   "source": [
    "\"\"\"\n",
    "20. How would you write a regex that match a number with comma for every three digits? \n",
    "It must match the given following:\n",
    "'42'\n",
    "'1,234'\n",
    "'6,368,745'\n",
    "but not the following:\n",
    "'12,34,567' (which has only two digits between the commas)\n",
    "'1234' (which lacks commas)\n",
    "\n",
    "\n",
    "- '^\\d{1,3}(,\\d{3})*$'\n",
    "\"\"\"\n",
    "\n",
    "import re\n",
    "r = re.compile(r'^\\d{1,3}(,\\d{3})*$', re.VERBOSE)\n",
    "l = ['42', '1,234', '6,368,745', '12,34,567', '1234']\n",
    "\n",
    "for i in l:\n",
    "    print(r.match(i))"
   ]
  },
  {
   "cell_type": "code",
   "execution_count": 26,
   "id": "51146575",
   "metadata": {},
   "outputs": [
    {
     "name": "stdout",
     "output_type": "stream",
     "text": [
      "<re.Match object; span=(0, 15), match='Haruto Watanabe'>\n",
      "<re.Match object; span=(0, 14), match='Alice Watanabe'>\n",
      "<re.Match object; span=(0, 16), match='RoboCop Watanabe'>\n",
      "None\n",
      "None\n",
      "None\n",
      "None\n"
     ]
    }
   ],
   "source": [
    "\"\"\"\n",
    "21. How would you write a regex that matches the full name of someone whose last name is Watanabe? \n",
    "You can assume that the first name that comes before it will always be one word that begins with a capital letter. The regex must match the following:\n",
    "'Haruto Watanabe'\n",
    "'Alice Watanabe'\n",
    "'RoboCop Watanabe'\n",
    "but not the following:\n",
    "'haruto Watanabe' (where the first name is not capitalized)\n",
    "'Mr. Watanabe' (where the preceding word has a nonletter character)\n",
    "'Watanabe' (which has no first name)\n",
    "'Haruto watanabe' (where Watanabe is not capitalized)\n",
    "\n",
    "- '[A-Z][a-zA-Z]*\\sWatanabe'\n",
    "\"\"\"\n",
    "\n",
    "import re\n",
    "\n",
    "r = re.compile(r'[A-Z][a-zA-Z]*\\sWatanabe')\n",
    "l = ['Haruto Watanabe', 'Alice Watanabe', 'RoboCop Watanabe', 'haruto Watanabe', 'Mr. Watanabe', 'Watanabe', 'Haruto watanabe']\n",
    "\n",
    "for i in l:\n",
    "    print(r.match(i))"
   ]
  },
  {
   "cell_type": "code",
   "execution_count": 29,
   "id": "bc126137",
   "metadata": {},
   "outputs": [
    {
     "name": "stdout",
     "output_type": "stream",
     "text": [
      "<re.Match object; span=(0, 18), match='Alice eats apples.'>\n",
      "<re.Match object; span=(0, 14), match='Bob pets cats.'>\n",
      "<re.Match object; span=(0, 20), match='Alice throws Apples.'>\n",
      "<re.Match object; span=(0, 14), match='BOB EATS CATS.'>\n",
      "None\n",
      "None\n",
      "None\n"
     ]
    }
   ],
   "source": [
    "\"\"\"\n",
    "22. How would you write a regex that matches a sentence where the first word is either Alice, Bob, or Carol; \n",
    "the second word is either eats, pets, or throws; the third word is apples, cats, or baseballs; \n",
    "and the sentence ends with a period? This regex should be case-insensitive. It must match the following:\n",
    "'Alice eats apples.'\n",
    "'Bob pets cats.'\n",
    "'Carol throws baseballs.'\n",
    "'Alice throws Apples.'\n",
    "'BOB EATS CATS.'\n",
    "but not the following:\n",
    "'RoboCop eats apples.'\n",
    "'ALICE THROWS FOOTBALLS.'\n",
    "'Carol eats 7 cats.'\n",
    "\n",
    "\n",
    "\"\"\"\n",
    "import re\n",
    "\n",
    "r = re.compile(r'(Alice|Bob|Carol)\\s(eats|pets|throws)\\s(apples|cats|baseballs)\\.', re.IGNORECASE)\n",
    "\n",
    "l = ['Alice eats apples.',\n",
    "'Bob pets cats.'\n",
    "'Carol throws baseballs.',\n",
    "'Alice throws Apples.',\n",
    "'BOB EATS CATS.',\n",
    "'RoboCop eats apples.',\n",
    "'ALICE THROWS FOOTBALLS.',\n",
    "'Carol eats 7 cats.']\n",
    "\n",
    "for i in l:\n",
    "    print(r.match(i))\n"
   ]
  },
  {
   "cell_type": "code",
   "execution_count": null,
   "id": "cca6e8a7",
   "metadata": {},
   "outputs": [],
   "source": []
  }
 ],
 "metadata": {
  "kernelspec": {
   "display_name": "Python 3 (ipykernel)",
   "language": "python",
   "name": "python3"
  },
  "language_info": {
   "codemirror_mode": {
    "name": "ipython",
    "version": 3
   },
   "file_extension": ".py",
   "mimetype": "text/x-python",
   "name": "python",
   "nbconvert_exporter": "python",
   "pygments_lexer": "ipython3",
   "version": "3.9.7"
  }
 },
 "nbformat": 4,
 "nbformat_minor": 5
}
