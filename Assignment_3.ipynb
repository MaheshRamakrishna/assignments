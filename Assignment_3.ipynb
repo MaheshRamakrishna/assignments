{
 "cells": [
  {
   "cell_type": "markdown",
   "id": "97c7ea5b",
   "metadata": {},
   "source": [
    "# Assignment_3 "
   ]
  },
  {
   "cell_type": "code",
   "execution_count": 1,
   "id": "e0a14117",
   "metadata": {},
   "outputs": [
    {
     "data": {
      "text/plain": [
       "'\\n1. Why are functions advantageous to have in your programs?\\n    - Functions helps to reuse the same code/logic, instead of writing in multiple places.\\n    - Functions makes the program easy to read\\n    - Functions helps to maintain modulerization.\\n'"
      ]
     },
     "execution_count": 1,
     "metadata": {},
     "output_type": "execute_result"
    }
   ],
   "source": [
    "\"\"\"\n",
    "1. Why are functions advantageous to have in your programs?\n",
    "    - Functions helps to reuse the same code/logic, instead of writing in multiple places.\n",
    "    - Functions makes the program easy to read\n",
    "    - Functions helps to maintain modulerization.\n",
    "\"\"\"\n"
   ]
  },
  {
   "cell_type": "code",
   "execution_count": 2,
   "id": "a8b8ff25",
   "metadata": {},
   "outputs": [
    {
     "data": {
      "text/plain": [
       "\"\\n2. When does the code in a function run: when it's specified or when it's called?\\n    - The function runs when it is called. During the definition it only creates the function but not execute.\\n\""
      ]
     },
     "execution_count": 2,
     "metadata": {},
     "output_type": "execute_result"
    }
   ],
   "source": [
    "\"\"\"\n",
    "2. When does the code in a function run: when it's specified or when it's called?\n",
    "    - The function runs when it is called. During the definition it only creates the function but not execute.\n",
    "\"\"\""
   ]
  },
  {
   "cell_type": "code",
   "execution_count": 3,
   "id": "d2215b2d",
   "metadata": {},
   "outputs": [
    {
     "data": {
      "text/plain": [
       "'\\n3. What statement creates a function?\\n    - def function_name()\\n    - def statement helps to create a function\\n'"
      ]
     },
     "execution_count": 3,
     "metadata": {},
     "output_type": "execute_result"
    }
   ],
   "source": [
    "\"\"\"\n",
    "3. What statement creates a function?\n",
    "    - def function_name()\n",
    "    - def statement helps to create a function\n",
    "\"\"\""
   ]
  },
  {
   "cell_type": "code",
   "execution_count": 4,
   "id": "63b47f78",
   "metadata": {},
   "outputs": [
    {
     "data": {
      "text/plain": [
       "'\\n4. What is the difference between a function and a function call?\\n    - The function is definition of a function\\n    - function call is invoking a particular function from another block of code or from another function\\n'"
      ]
     },
     "execution_count": 4,
     "metadata": {},
     "output_type": "execute_result"
    }
   ],
   "source": [
    "\"\"\"\n",
    "4. What is the difference between a function and a function call?\n",
    "    - The function is definition of a function\n",
    "    - function call is invoking a particular function from another block of code or from another function\n",
    "\"\"\""
   ]
  },
  {
   "cell_type": "code",
   "execution_count": 5,
   "id": "7253e08b",
   "metadata": {},
   "outputs": [
    {
     "data": {
      "text/plain": [
       "'\\n5. How many global scopes are there in a Python program? How many local scopes?\\n    - We have one global scope\\n    - We have one local scope\\n    - order of execution starts from local scope and then goes to global scope.\\n\\n'"
      ]
     },
     "execution_count": 5,
     "metadata": {},
     "output_type": "execute_result"
    }
   ],
   "source": [
    "\"\"\"\n",
    "5. How many global scopes are there in a Python program? How many local scopes?\n",
    "    - We have one global scope\n",
    "    - We have one local scope\n",
    "    - order of execution starts from local scope and then goes to global scope.\n",
    "\n",
    "\"\"\""
   ]
  },
  {
   "cell_type": "code",
   "execution_count": 6,
   "id": "6d601393",
   "metadata": {},
   "outputs": [
    {
     "data": {
      "text/plain": [
       "'\\n6. What happens to variables in a local scope when the function call returns?\\n    - The variables in local scope will be removed from the execution stack.\\n    - These local variable will lose its existince, once the control comes out of the function.\\n'"
      ]
     },
     "execution_count": 6,
     "metadata": {},
     "output_type": "execute_result"
    }
   ],
   "source": [
    "\"\"\"\n",
    "6. What happens to variables in a local scope when the function call returns?\n",
    "    - The variables in local scope will be removed from the execution stack.\n",
    "    - These local variable will lose its existince, once the control comes out of the function.\n",
    "\"\"\""
   ]
  },
  {
   "cell_type": "code",
   "execution_count": 7,
   "id": "8b4bb18f",
   "metadata": {},
   "outputs": [
    {
     "data": {
      "text/plain": [
       "'\\n7. What is the concept of a return value? Is it possible to have a return value in an expression?\\n    - Whenever a function or expression evaluates the logic, we can return a value from the function or the expression.\\n    - left hand side of the operator can be assigned with the return value from an expression.\\n    - Function may return a value or None or NoneType\\n'"
      ]
     },
     "execution_count": 7,
     "metadata": {},
     "output_type": "execute_result"
    }
   ],
   "source": [
    "\"\"\"\n",
    "7. What is the concept of a return value? Is it possible to have a return value in an expression?\n",
    "    - Whenever a function or expression evaluates the logic, we can return a value from the function \n",
    "        or the expression.\n",
    "    - left hand side of the operator can be assigned with the return value from an expression.\n",
    "    - Function may return a value or None or NoneType\n",
    "\"\"\""
   ]
  },
  {
   "cell_type": "code",
   "execution_count": 11,
   "id": "90ac6868",
   "metadata": {},
   "outputs": [
    {
     "name": "stdout",
     "output_type": "stream",
     "text": [
      "<class 'NoneType'>\n"
     ]
    }
   ],
   "source": [
    "\"\"\"\n",
    "8. If a function does not have a return statement, what is the return value of a call to that function?\n",
    "    - The function without return statement would return None of data type NoneType\n",
    "\n",
    "\"\"\"\n",
    "\n",
    "def fun() :\n",
    "    \"\"\"\n",
    "    do nothing\n",
    "    \"\"\"\n",
    "    pass\n",
    "\n",
    "print(type(fun()))"
   ]
  },
  {
   "cell_type": "code",
   "execution_count": 13,
   "id": "2a4e57eb",
   "metadata": {},
   "outputs": [
    {
     "name": "stdout",
     "output_type": "stream",
     "text": [
      "global value\n"
     ]
    }
   ],
   "source": [
    "\"\"\"\n",
    "9. How do you make a function variable refer to the global variable?\n",
    "    - Any variable defined outside the function can be used as global variable.\n",
    "    - We can also make a variable global by using keyword global\n",
    "\"\"\"\n",
    "\n",
    "def fun_global() :\n",
    "    \"\"\"\n",
    "    Global variable test\n",
    "    \"\"\"\n",
    "    global s\n",
    "    s = \"global value\"\n",
    "\n",
    "fun_global()\n",
    "print(s)"
   ]
  },
  {
   "cell_type": "code",
   "execution_count": 14,
   "id": "9efdee0e",
   "metadata": {},
   "outputs": [
    {
     "data": {
      "text/plain": [
       "'\\n10. What is the data type of None?\\n    - The data type of None is NoneType\\n'"
      ]
     },
     "execution_count": 14,
     "metadata": {},
     "output_type": "execute_result"
    }
   ],
   "source": [
    "\"\"\"\n",
    "10. What is the data type of None?\n",
    "    - The data type of None is NoneType\n",
    "\"\"\""
   ]
  },
  {
   "cell_type": "code",
   "execution_count": 15,
   "id": "3322b715",
   "metadata": {},
   "outputs": [
    {
     "data": {
      "text/plain": [
       "'\\n11. What does the sentence import areallyourpetsnamederic do?\\n    - Import statement allows to import one or modules into the program and \\n        we can use the functions from those modules.\\n'"
      ]
     },
     "execution_count": 15,
     "metadata": {},
     "output_type": "execute_result"
    }
   ],
   "source": [
    "\"\"\"\n",
    "11. What does the sentence import areallyourpetsnamederic do?\n",
    "    - Import statement allows to import one or modules into the program and \n",
    "        we can use the functions from those modules.\n",
    "\"\"\""
   ]
  },
  {
   "cell_type": "code",
   "execution_count": 16,
   "id": "a52a1d77",
   "metadata": {},
   "outputs": [
    {
     "data": {
      "text/plain": [
       "'\\n12. If you had a bacon() feature in a spam module, what would you call it after importing spam?\\n    - We would be calling bacon() function easily\\n    \\n    import spam\\n    \\n    bacon()\\n'"
      ]
     },
     "execution_count": 16,
     "metadata": {},
     "output_type": "execute_result"
    }
   ],
   "source": [
    "\"\"\"\n",
    "12. If you had a bacon() feature in a spam module, what would you call it after importing spam?\n",
    "    - We would be calling bacon() function easily\n",
    "    \n",
    "    import spam\n",
    "    \n",
    "    bacon()\n",
    "\"\"\"\n",
    "\n"
   ]
  },
  {
   "cell_type": "code",
   "execution_count": 17,
   "id": "8d16bfda",
   "metadata": {},
   "outputs": [
    {
     "data": {
      "text/plain": [
       "'\\n13. What can you do to save a programme from crashing if it encounters an error?\\n    - We need to use try-except-finally statements to handle the errors. \\n        Mainly we would need try-except to handle errors\\n\\n'"
      ]
     },
     "execution_count": 17,
     "metadata": {},
     "output_type": "execute_result"
    }
   ],
   "source": [
    "\"\"\"\n",
    "13. What can you do to save a programme from crashing if it encounters an error?\n",
    "    - We need to use try-except-finally statements to handle the errors. \n",
    "        Mainly we would need try-except to handle errors\n",
    "\n",
    "\"\"\""
   ]
  },
  {
   "cell_type": "code",
   "execution_count": null,
   "id": "077f69fc",
   "metadata": {},
   "outputs": [],
   "source": [
    "\"\"\"\n",
    "14. What is the purpose of the try clause? What is the purpose of the except clause?\n",
    "    - try clause attempts to execute the code or logic within the try block/clause\n",
    "    - except clause handles the interrupted execution of try clause, wheneven the try clause code breaks.\n",
    "\n",
    "\"\"\""
   ]
  }
 ],
 "metadata": {
  "kernelspec": {
   "display_name": "Python 3 (ipykernel)",
   "language": "python",
   "name": "python3"
  },
  "language_info": {
   "codemirror_mode": {
    "name": "ipython",
    "version": 3
   },
   "file_extension": ".py",
   "mimetype": "text/x-python",
   "name": "python",
   "nbconvert_exporter": "python",
   "pygments_lexer": "ipython3",
   "version": "3.9.7"
  }
 },
 "nbformat": 4,
 "nbformat_minor": 5
}
